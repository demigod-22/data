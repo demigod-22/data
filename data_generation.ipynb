{
 "cells": [
  {
   "cell_type": "code",
   "execution_count": 1,
   "metadata": {},
   "outputs": [],
   "source": [
    "import numpy as np"
   ]
  },
  {
   "cell_type": "code",
   "execution_count": 41,
   "metadata": {},
   "outputs": [],
   "source": [
    "num_of_workers = 1000\n",
    "num_of_tasks = 900"
   ]
  },
  {
   "cell_type": "code",
   "execution_count": 67,
   "metadata": {},
   "outputs": [],
   "source": [
    "mean = [0.5,0.5]\n",
    "variance = [[0.5,0.0],[0.0,0.5]]\n",
    "\n",
    "worker_loc_gauss = np.random.multivariate_normal(mean, variance, int(0.9*num_of_workers))\n",
    "tasks_loc_gauss = np.random.multivariate_normal( mean, variance , int(0.9*num_of_tasks))\n",
    "\n",
    "worker_loc_uni = np.random.uniform(low = 0.0, high = 1.0, size=(int(0.1*num_of_workers),2))\n",
    "tasks_loc_uni = np.random.uniform(low=0.0,high=1.0,size=(int(0.1*num_of_tasks),2))\n",
    "\n",
    "workers_loc = np.concatenate((worker_loc_gauss,worker_loc_uni),axis = 0)\n",
    "tasks_loc = np.concatenate((tasks_loc_gauss,tasks_loc_uni),axis=0)\n",
    "\n",
    "with open('worker_loc.txt','w') as file:\n",
    "    for i in workers_loc:\n",
    "        file.write(f\"{str(i[0])},{str(i[1])}\")\n",
    "        file.write('\\n')\n",
    "\n",
    "with open('task_loc.txt','w') as file:\n",
    "    for i in tasks_loc:\n",
    "        file.write(f\"{str(i[0])},{str(i[1])}\")\n",
    "        file.write('\\n')\n"
   ]
  },
  {
   "cell_type": "code",
   "execution_count": 64,
   "metadata": {},
   "outputs": [],
   "source": [
    "mean = 0.45\n",
    "variance = 0.002\n",
    "velocity = np.random.normal(mean,np.sqrt(variance),int(num_of_workers))\n",
    "\n",
    "with open('velocity.txt','w') as file:\n",
    "    for i in velocity:\n",
    "        file.write(str(i))\n",
    "        file.write('\\n')"
   ]
  },
  {
   "cell_type": "code",
   "execution_count": 63,
   "metadata": {},
   "outputs": [],
   "source": [
    "mean = 1.5\n",
    "variance = 0.05\n",
    "deadlines  = np.random.normal(mean,np.sqrt(variance),int(num_of_workers))\n",
    "\n",
    "with open('deadlines.txt','w') as file:\n",
    "    for i in deadlines:\n",
    "        file.write(str(i))\n",
    "        file.write('\\n')"
   ]
  },
  {
   "cell_type": "code",
   "execution_count": 60,
   "metadata": {},
   "outputs": [],
   "source": [
    "mean = 7.5\n",
    "variance = 0.9\n",
    "budgets  = np.random.normal(mean,np.sqrt(variance),int(num_of_tasks))\n",
    "\n",
    "\n",
    "with open('budgets.txt','w') as file:\n",
    "    for i in budgets:\n",
    "        file.write(str(i))\n",
    "        file.write('\\n')"
   ]
  },
  {
   "cell_type": "code",
   "execution_count": 61,
   "metadata": {},
   "outputs": [],
   "source": [
    "max_dist = np.random.uniform(low = 0.3,high=0.4,size=int(num_of_workers))\n",
    "\n",
    "with open('max_dist.txt','w') as file:\n",
    "    for i in max_dist:\n",
    "        file.write(str(i))\n",
    "        file.write('\\n')"
   ]
  },
  {
   "cell_type": "code",
   "execution_count": 62,
   "metadata": {},
   "outputs": [],
   "source": [
    "cost = np.random.uniform(low=20,high=30,size=int(num_of_workers))\n",
    "\n",
    "with open('cost.txt','w') as file:\n",
    "    for i in cost:\n",
    "        file.write(str(i))\n",
    "        file.write('\\n')"
   ]
  },
  {
   "cell_type": "code",
   "execution_count": 57,
   "metadata": {},
   "outputs": [
    {
     "data": {
      "text/plain": [
       "900"
      ]
     },
     "execution_count": 57,
     "metadata": {},
     "output_type": "execute_result"
    }
   ],
   "source": [
    "len(budgets)"
   ]
  },
  {
   "cell_type": "code",
   "execution_count": null,
   "metadata": {},
   "outputs": [],
   "source": []
  }
 ],
 "metadata": {
  "kernelspec": {
   "display_name": "Python 3",
   "language": "python",
   "name": "python3"
  },
  "language_info": {
   "codemirror_mode": {
    "name": "ipython",
    "version": 3
   },
   "file_extension": ".py",
   "mimetype": "text/x-python",
   "name": "python",
   "nbconvert_exporter": "python",
   "pygments_lexer": "ipython3",
   "version": "3.12.3"
  }
 },
 "nbformat": 4,
 "nbformat_minor": 2
}
